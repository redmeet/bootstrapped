{
 "cells": [
  {
   "cell_type": "raw",
   "metadata": {},
   "source": [
    "Copyright 2016-present, Facebook, Inc.\n",
    "\n",
    "All rights reserved.\n",
    "\n",
    "This source code is licensed under the license found in the LICENSE-examples file in the root directory of this source tree."
   ]
  },
  {
   "cell_type": "markdown",
   "metadata": {},
   "source": [
    "# Bootstrap Intro"
   ]
  },
  {
   "cell_type": "code",
   "execution_count": 1,
   "metadata": {
    "collapsed": true
   },
   "outputs": [],
   "source": [
    "import matplotlib.pyplot as plt\n",
    "import pandas as pd\n",
    "import numpy as np"
   ]
  },
  {
   "cell_type": "code",
   "execution_count": 2,
   "metadata": {
    "collapsed": true
   },
   "outputs": [],
   "source": [
    "import bootstrapped.bootstrap as bs\n",
    "import bootstrapped.compare_functions as bs_compare\n",
    "import bootstrapped.stats_functions as bs_stats"
   ]
  },
  {
   "cell_type": "markdown",
   "metadata": {},
   "source": [
    "### Bootstrap Examples\n",
    "Bootstrap at a high level:\n",
    "The bootstrap lets you resample a numeric series to (typically) estimate confidence intervals.\n",
    "\n",
    "[More info on the bootstrap](https://ocw.mit.edu/courses/mathematics/18-05-introduction-to-probability-and-statistics-spring-2014/readings/MIT18_05S14_Reading24.pdf)"
   ]
  },
  {
   "cell_type": "code",
   "execution_count": 3,
   "metadata": {
    "collapsed": false
   },
   "outputs": [],
   "source": [
    "# little a/b test\n",
    "# score in test are 10% greater than ctrl (per record)\n",
    "# ctrl has 5x the number of records as test\n",
    "\n",
    "# 10% lift in test\n",
    "lift = 1.1\n",
    "test = np.random.binomial(100, p=0.2 * lift, size=10000) * 1.0\n",
    "ctrl = np.random.binomial(100, p=0.2, size=50000) * 1.0"
   ]
  },
  {
   "cell_type": "code",
   "execution_count": 4,
   "metadata": {
    "collapsed": false
   },
   "outputs": [
    {
     "data": {
      "text/plain": [
       "<matplotlib.legend.Legend at 0x7ff7f3b37d90>"
      ]
     },
     "execution_count": 4,
     "metadata": {},
     "output_type": "execute_result"
    },
    {
     "data": {
      "image/png": "[encoded data removed]",
      "text/plain": [
       "<matplotlib.figure.Figure at 0x7ff8186a49d0>"
      ]
     },
     "metadata": {},
     "output_type": "display_data"
    }
   ],
   "source": [
    "bins = np.linspace(0, 40, 20)\n",
    "\n",
    "plt.hist(ctrl, bins=bins, label='Control')\n",
    "plt.hist(test, bins=bins, label='Test', color='orange')\n",
    "plt.title('Test/Ctrl Data')\n",
    "plt.legend()"
   ]
  },
  {
   "cell_type": "code",
   "execution_count": 5,
   "metadata": {
    "collapsed": false
   },
   "outputs": [
    {
     "name": "stdout",
     "output_type": "stream",
     "text": [
      "9.98290198571\n",
      "9.98290198571    (9.53991577277, 10.4249160258)\n"
     ]
    }
   ],
   "source": [
    "# run an a/b test simulation ignoring the lengths of the series (average)\n",
    "# just what is the 'typical' value\n",
    "# use percent change to compare test and control\n",
    "\n",
    "print(bs_compare.percent_change(test.mean(), ctrl.mean()))\n",
    "\n",
    "print(bs.bootstrap_ab(test, ctrl, bs_stats.mean, bs_compare.percent_change))"
   ]
  },
  {
   "cell_type": "code",
   "execution_count": 6,
   "metadata": {
    "collapsed": false
   },
   "outputs": [
    {
     "name": "stdout",
     "output_type": "stream",
     "text": [
      "10000\n",
      "50000\n"
     ]
    }
   ],
   "source": [
    "print(len(test))\n",
    "print(len(ctrl))"
   ]
  },
  {
   "cell_type": "code",
   "execution_count": 7,
   "metadata": {
    "collapsed": false
   },
   "outputs": [
    {
     "name": "stdout",
     "output_type": "stream",
     "text": [
      "-78.0034196029\n",
      "-78.0034196029    (-78.0918070091, -77.9145539966)\n"
     ]
    }
   ],
   "source": [
    "# run an a/b test simulation considering the lengths of the series (sum)\n",
    "# consider the full 'volume' of values that are passed in\n",
    "\n",
    "print(bs_compare.percent_change(test.sum(), ctrl.sum()))\n",
    "\n",
    "print(bs.bootstrap_ab(\n",
    "    test, \n",
    "    ctrl, \n",
    "    stat_func=bs_stats.sum,\n",
    "    compare_func=bs_compare.percent_change\n",
    "))"
   ]
  },
  {
   "cell_type": "markdown",
   "metadata": {},
   "source": [
    "**Advice:** For most situations we reccomend that we use 'sum' aggregate function as this will take the size of the population into account. This can be useful if you think your test will increase the total number of individuals in the population and not only the typical value per individual. "
   ]
  },
  {
   "cell_type": "markdown",
   "metadata": {},
   "source": [
    "**Exception to the above advice**\n",
    "\n",
    "\n",
    "There are situations where you might need to make some adjustments, for example if your holdouts are sized differently.\n",
    "\n",
    " * You give 100 dollars to **person_A** and you give 1000 dollars to **person_B** to bring people to your store\n",
    " * Say you don't know how many people person_A or person_B went after but they did each get paying customers to attend\n",
    " * However you do need to correct at the end for the fact that you gave person_B 10x more money than person_A"
   ]
  },
  {
   "cell_type": "code",
   "execution_count": 8,
   "metadata": {
    "collapsed": true
   },
   "outputs": [],
   "source": [
    "# Gave $100, got 1k events on the store, $20 per event \n",
    "person_A_results = np.random.binomial(100, p=0.2, size=1000) * 1.0\n",
    "\n",
    "# Gave $1000, got 5k events on the store, $30 per event\n",
    "person_B_results = np.random.binomial(100, p=0.3, size=5000) * 1.0"
   ]
  },
  {
   "cell_type": "code",
   "execution_count": 9,
   "metadata": {
    "collapsed": false
   },
   "outputs": [
    {
     "name": "stdout",
     "output_type": "stream",
     "text": [
      "-130131.0    (-130809.025, -129437.0)\n"
     ]
    }
   ],
   "source": [
    "# The test earned much less in terms of total dollars\n",
    "print(bs.bootstrap_ab(\n",
    "    person_A_results, \n",
    "    person_B_results, \n",
    "    stat_func=bs_stats.sum,\n",
    "    compare_func=bs_compare.difference,\n",
    "))"
   ]
  },
  {
   "cell_type": "code",
   "execution_count": 10,
   "metadata": {
    "collapsed": false
   },
   "outputs": [
    {
     "name": "stdout",
     "output_type": "stream",
     "text": [
      "-9.9078    (-10.1834, -9.634595)\n"
     ]
    }
   ],
   "source": [
    "# The test gives ~$10 less per event\n",
    "print(bs.bootstrap_ab(\n",
    "    person_A_results, \n",
    "    person_B_results, \n",
    "    stat_func=bs_stats.mean,\n",
    "    compare_func=bs_compare.difference,\n",
    "))"
   ]
  },
  {
   "cell_type": "code",
   "execution_count": 11,
   "metadata": {
    "collapsed": false
   },
   "outputs": [
    {
     "name": "stdout",
     "output_type": "stream",
     "text": [
      "51201.0    (48689.95, 53765.1)\n"
     ]
    }
   ],
   "source": [
    "# If we scale the text by $$ spent - person_A should be a better return on investment\n",
    "#  - assuming person_A can achieve similar results with 10x more money\n",
    "print(bs.bootstrap_ab(\n",
    "    person_A_results, \n",
    "    person_B_results, \n",
    "    stat_func=bs_stats.sum,\n",
    "    compare_func=bs_compare.difference,\n",
    "    scale_test_by=10.,\n",
    "))"
   ]
  }
 ],
 "metadata": {
  "anaconda-cloud": {},
  "kernelspec": {
   "display_name": "Python [default]",
   "language": "python",
   "name": "python2"
  },
  "language_info": {
   "codemirror_mode": {
    "name": "ipython",
    "version": 2
   },
   "file_extension": ".py",
   "mimetype": "text/x-python",
   "name": "python",
   "nbconvert_exporter": "python",
   "pygments_lexer": "ipython2",
   "version": "2.7.12"
  }
 },
 "nbformat": 4,
 "nbformat_minor": 0
}
